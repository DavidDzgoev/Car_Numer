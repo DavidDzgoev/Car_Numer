{
 "cells": [
  {
   "cell_type": "code",
   "execution_count": 23,
   "metadata": {},
   "outputs": [],
   "source": [
    "import time\n",
    "import pandas as pd\n",
    "import numpy as np\n",
    "import os\n",
    "import cv2 as cv\n",
    "import matplotlib.pyplot as plt\n",
    "from tensorflow.keras import Sequential\n",
    "from tensorflow.keras.layers import Dense,\\\n",
    "                                    Conv2D,\\\n",
    "                                    MaxPooling2D,\\\n",
    "                                    Dropout,\\\n",
    "                                    Flatten\n",
    "from tensorflow.keras import utils\n",
    "from tensorflow.keras.preprocessing import image\n",
    "from tensorflow.python.keras.preprocessing.image import ImageDataGenerator\n",
    "from tensorflow.keras.callbacks import ReduceLROnPlateau,\\\n",
    "                                       ModelCheckpoint\n",
    "import tensorflow as tf"
   ]
  },
  {
   "cell_type": "code",
   "execution_count": 3,
   "metadata": {},
   "outputs": [
    {
     "data": {
      "text/html": [
       "<div>\n",
       "<style scoped>\n",
       "    .dataframe tbody tr th:only-of-type {\n",
       "        vertical-align: middle;\n",
       "    }\n",
       "\n",
       "    .dataframe tbody tr th {\n",
       "        vertical-align: top;\n",
       "    }\n",
       "\n",
       "    .dataframe thead th {\n",
       "        text-align: right;\n",
       "    }\n",
       "</style>\n",
       "<table border=\"1\" class=\"dataframe\">\n",
       "  <thead>\n",
       "    <tr style=\"text-align: right;\">\n",
       "      <th></th>\n",
       "      <th>Image</th>\n",
       "      <th>Symbol</th>\n",
       "      <th>FileName</th>\n",
       "    </tr>\n",
       "  </thead>\n",
       "  <tbody>\n",
       "    <tr>\n",
       "      <th>0</th>\n",
       "      <td>[[[229, 229, 229], [231, 231, 231], [233, 233,...</td>\n",
       "      <td>0</td>\n",
       "      <td>0.bmp</td>\n",
       "    </tr>\n",
       "    <tr>\n",
       "      <th>1</th>\n",
       "      <td>[[[231, 231, 231], [230, 230, 230], [229, 229,...</td>\n",
       "      <td>0</td>\n",
       "      <td>1 (2).bmp</td>\n",
       "    </tr>\n",
       "    <tr>\n",
       "      <th>2</th>\n",
       "      <td>[[[115, 115, 115], [136, 136, 136], [151, 151,...</td>\n",
       "      <td>0</td>\n",
       "      <td>1.bmp</td>\n",
       "    </tr>\n",
       "    <tr>\n",
       "      <th>3</th>\n",
       "      <td>[[[102, 102, 102], [95, 95, 95], [83, 83, 83],...</td>\n",
       "      <td>0</td>\n",
       "      <td>10 (2).bmp</td>\n",
       "    </tr>\n",
       "    <tr>\n",
       "      <th>4</th>\n",
       "      <td>[[[113, 113, 113], [109, 109, 109], [112, 112,...</td>\n",
       "      <td>0</td>\n",
       "      <td>10.bmp</td>\n",
       "    </tr>\n",
       "    <tr>\n",
       "      <th>...</th>\n",
       "      <td>...</td>\n",
       "      <td>...</td>\n",
       "      <td>...</td>\n",
       "    </tr>\n",
       "    <tr>\n",
       "      <th>18533</th>\n",
       "      <td>[[[125, 125, 125], [126, 126, 126], [128, 128,...</td>\n",
       "      <td>9</td>\n",
       "      <td>95.bmp</td>\n",
       "    </tr>\n",
       "    <tr>\n",
       "      <th>18534</th>\n",
       "      <td>[[[177, 177, 177], [177, 177, 177], [178, 178,...</td>\n",
       "      <td>9</td>\n",
       "      <td>96.bmp</td>\n",
       "    </tr>\n",
       "    <tr>\n",
       "      <th>18535</th>\n",
       "      <td>[[[240, 240, 240], [240, 240, 240], [241, 241,...</td>\n",
       "      <td>9</td>\n",
       "      <td>97.bmp</td>\n",
       "    </tr>\n",
       "    <tr>\n",
       "      <th>18536</th>\n",
       "      <td>[[[168, 168, 168], [178, 178, 178], [191, 191,...</td>\n",
       "      <td>9</td>\n",
       "      <td>98.bmp</td>\n",
       "    </tr>\n",
       "    <tr>\n",
       "      <th>18537</th>\n",
       "      <td>[[[160, 160, 160], [157, 157, 157], [149, 149,...</td>\n",
       "      <td>9</td>\n",
       "      <td>99.bmp</td>\n",
       "    </tr>\n",
       "  </tbody>\n",
       "</table>\n",
       "<p>18538 rows × 3 columns</p>\n",
       "</div>"
      ],
      "text/plain": [
       "                                                   Image Symbol    FileName\n",
       "0      [[[229, 229, 229], [231, 231, 231], [233, 233,...      0       0.bmp\n",
       "1      [[[231, 231, 231], [230, 230, 230], [229, 229,...      0   1 (2).bmp\n",
       "2      [[[115, 115, 115], [136, 136, 136], [151, 151,...      0       1.bmp\n",
       "3      [[[102, 102, 102], [95, 95, 95], [83, 83, 83],...      0  10 (2).bmp\n",
       "4      [[[113, 113, 113], [109, 109, 109], [112, 112,...      0      10.bmp\n",
       "...                                                  ...    ...         ...\n",
       "18533  [[[125, 125, 125], [126, 126, 126], [128, 128,...      9      95.bmp\n",
       "18534  [[[177, 177, 177], [177, 177, 177], [178, 178,...      9      96.bmp\n",
       "18535  [[[240, 240, 240], [240, 240, 240], [241, 241,...      9      97.bmp\n",
       "18536  [[[168, 168, 168], [178, 178, 178], [191, 191,...      9      98.bmp\n",
       "18537  [[[160, 160, 160], [157, 157, 157], [149, 149,...      9      99.bmp\n",
       "\n",
       "[18538 rows x 3 columns]"
      ]
     },
     "execution_count": 3,
     "metadata": {},
     "output_type": "execute_result"
    }
   ],
   "source": [
    "# data loading\n",
    "data = pd.DataFrame(columns=['Image', 'Symbol', 'FileName'])\n",
    "\n",
    "for data_dir in sorted(os.listdir(r\"C:\\Users\\Rome's Papa\\Car_Number\\car_nums_data\")):\n",
    "    for file in sorted(os.listdir(fr\"C:\\Users\\Rome's Papa\\Car_Number\\car_nums_data\\{data_dir}\")):\n",
    "        \n",
    "        img_path = fr\"C:\\Users\\Rome's Papa\\Car_Number\\car_nums_data\\{data_dir}\\{file}\"\n",
    "        img = cv.imread(img_path, cv.IMREAD_COLOR)\n",
    "        \n",
    "        data = pd.concat([\n",
    "            data,\n",
    "            pd.DataFrame(data=[[img, int(data_dir), file]],\n",
    "                         columns=['Image', 'Symbol', 'FileName'])\n",
    "        ])\n",
    "\n",
    "data.index = pd.RangeIndex(data.shape[0])\n",
    "data"
   ]
  },
  {
   "cell_type": "code",
   "execution_count": 4,
   "metadata": {},
   "outputs": [],
   "source": [
    "# converting images to same shape\n",
    "data['Height'] = data.Image.apply(lambda img: img.shape[0])\n",
    "data['Width']  = data.Image.apply(lambda img: img.shape[1])"
   ]
  },
  {
   "cell_type": "code",
   "execution_count": 5,
   "metadata": {},
   "outputs": [
    {
     "name": "stdout",
     "output_type": "stream",
     "text": [
      "Average image height: 53.14 px\n",
      "Average image  width: 45.51 px\n"
     ]
    }
   ],
   "source": [
    "print(f'Average image height: {np.round(data.Height.mean(), 2)} px')\n",
    "print(f'Average image  width: {np.round(data.Width .mean(), 2)} px')"
   ]
  },
  {
   "cell_type": "code",
   "execution_count": 6,
   "metadata": {},
   "outputs": [
    {
     "data": {
      "text/html": [
       "<div>\n",
       "<style scoped>\n",
       "    .dataframe tbody tr th:only-of-type {\n",
       "        vertical-align: middle;\n",
       "    }\n",
       "\n",
       "    .dataframe tbody tr th {\n",
       "        vertical-align: top;\n",
       "    }\n",
       "\n",
       "    .dataframe thead th {\n",
       "        text-align: right;\n",
       "    }\n",
       "</style>\n",
       "<table border=\"1\" class=\"dataframe\">\n",
       "  <thead>\n",
       "    <tr style=\"text-align: right;\">\n",
       "      <th></th>\n",
       "      <th>Image</th>\n",
       "      <th>Symbol</th>\n",
       "      <th>FileName</th>\n",
       "      <th>Height</th>\n",
       "      <th>Width</th>\n",
       "    </tr>\n",
       "  </thead>\n",
       "  <tbody>\n",
       "    <tr>\n",
       "      <th>0</th>\n",
       "      <td>[[[229, 229, 229], [231, 231, 231], [233, 233,...</td>\n",
       "      <td>0</td>\n",
       "      <td>0.bmp</td>\n",
       "      <td>50</td>\n",
       "      <td>40</td>\n",
       "    </tr>\n",
       "    <tr>\n",
       "      <th>1</th>\n",
       "      <td>[[[231, 231, 231], [230, 230, 230], [229, 229,...</td>\n",
       "      <td>0</td>\n",
       "      <td>1 (2).bmp</td>\n",
       "      <td>50</td>\n",
       "      <td>40</td>\n",
       "    </tr>\n",
       "    <tr>\n",
       "      <th>2</th>\n",
       "      <td>[[[115, 115, 115], [136, 136, 136], [151, 151,...</td>\n",
       "      <td>0</td>\n",
       "      <td>1.bmp</td>\n",
       "      <td>50</td>\n",
       "      <td>40</td>\n",
       "    </tr>\n",
       "    <tr>\n",
       "      <th>3</th>\n",
       "      <td>[[[102, 102, 102], [95, 95, 95], [83, 83, 83],...</td>\n",
       "      <td>0</td>\n",
       "      <td>10 (2).bmp</td>\n",
       "      <td>50</td>\n",
       "      <td>40</td>\n",
       "    </tr>\n",
       "    <tr>\n",
       "      <th>4</th>\n",
       "      <td>[[[113, 113, 113], [109, 109, 109], [112, 112,...</td>\n",
       "      <td>0</td>\n",
       "      <td>10.bmp</td>\n",
       "      <td>50</td>\n",
       "      <td>40</td>\n",
       "    </tr>\n",
       "    <tr>\n",
       "      <th>...</th>\n",
       "      <td>...</td>\n",
       "      <td>...</td>\n",
       "      <td>...</td>\n",
       "      <td>...</td>\n",
       "      <td>...</td>\n",
       "    </tr>\n",
       "    <tr>\n",
       "      <th>18533</th>\n",
       "      <td>[[[125, 125, 125], [126, 126, 126], [128, 128,...</td>\n",
       "      <td>9</td>\n",
       "      <td>95.bmp</td>\n",
       "      <td>50</td>\n",
       "      <td>40</td>\n",
       "    </tr>\n",
       "    <tr>\n",
       "      <th>18534</th>\n",
       "      <td>[[[176, 176, 176], [177, 177, 177], [177, 177,...</td>\n",
       "      <td>9</td>\n",
       "      <td>96.bmp</td>\n",
       "      <td>50</td>\n",
       "      <td>40</td>\n",
       "    </tr>\n",
       "    <tr>\n",
       "      <th>18535</th>\n",
       "      <td>[[[240, 240, 240], [240, 240, 240], [241, 241,...</td>\n",
       "      <td>9</td>\n",
       "      <td>97.bmp</td>\n",
       "      <td>50</td>\n",
       "      <td>40</td>\n",
       "    </tr>\n",
       "    <tr>\n",
       "      <th>18536</th>\n",
       "      <td>[[[169, 169, 169], [179, 179, 179], [192, 192,...</td>\n",
       "      <td>9</td>\n",
       "      <td>98.bmp</td>\n",
       "      <td>50</td>\n",
       "      <td>40</td>\n",
       "    </tr>\n",
       "    <tr>\n",
       "      <th>18537</th>\n",
       "      <td>[[[160, 160, 160], [157, 157, 157], [149, 149,...</td>\n",
       "      <td>9</td>\n",
       "      <td>99.bmp</td>\n",
       "      <td>50</td>\n",
       "      <td>40</td>\n",
       "    </tr>\n",
       "  </tbody>\n",
       "</table>\n",
       "<p>18538 rows × 5 columns</p>\n",
       "</div>"
      ],
      "text/plain": [
       "                                                   Image Symbol    FileName  \\\n",
       "0      [[[229, 229, 229], [231, 231, 231], [233, 233,...      0       0.bmp   \n",
       "1      [[[231, 231, 231], [230, 230, 230], [229, 229,...      0   1 (2).bmp   \n",
       "2      [[[115, 115, 115], [136, 136, 136], [151, 151,...      0       1.bmp   \n",
       "3      [[[102, 102, 102], [95, 95, 95], [83, 83, 83],...      0  10 (2).bmp   \n",
       "4      [[[113, 113, 113], [109, 109, 109], [112, 112,...      0      10.bmp   \n",
       "...                                                  ...    ...         ...   \n",
       "18533  [[[125, 125, 125], [126, 126, 126], [128, 128,...      9      95.bmp   \n",
       "18534  [[[176, 176, 176], [177, 177, 177], [177, 177,...      9      96.bmp   \n",
       "18535  [[[240, 240, 240], [240, 240, 240], [241, 241,...      9      97.bmp   \n",
       "18536  [[[169, 169, 169], [179, 179, 179], [192, 192,...      9      98.bmp   \n",
       "18537  [[[160, 160, 160], [157, 157, 157], [149, 149,...      9      99.bmp   \n",
       "\n",
       "       Height  Width  \n",
       "0          50     40  \n",
       "1          50     40  \n",
       "2          50     40  \n",
       "3          50     40  \n",
       "4          50     40  \n",
       "...       ...    ...  \n",
       "18533      50     40  \n",
       "18534      50     40  \n",
       "18535      50     40  \n",
       "18536      50     40  \n",
       "18537      50     40  \n",
       "\n",
       "[18538 rows x 5 columns]"
      ]
     },
     "execution_count": 6,
     "metadata": {},
     "output_type": "execute_result"
    }
   ],
   "source": [
    "# adding fields width and height\n",
    "data.Image = data.Image.apply(lambda img: cv.resize(img, dsize=(40, 50)))\n",
    "\n",
    "data['Height'] = data.Image.apply(lambda img: img.shape[0])\n",
    "data['Width']  = data.Image.apply(lambda img: img.shape[1])\n",
    "\n",
    "data"
   ]
  },
  {
   "cell_type": "code",
   "execution_count": 7,
   "metadata": {},
   "outputs": [
    {
     "data": {
      "text/plain": [
       "<matplotlib.image.AxesImage at 0x2057c6baac8>"
      ]
     },
     "execution_count": 7,
     "metadata": {},
     "output_type": "execute_result"
    },
    {
     "data": {
      "image/png": "[encoded data removed]",
      "text/plain": [
       "<Figure size 432x288 with 1 Axes>"
      ]
     },
     "metadata": {
      "needs_background": "light"
     },
     "output_type": "display_data"
    }
   ],
   "source": [
    "plt.imshow(data.loc[np.random.randint(data.shape[0]), 'Image'])"
   ]
  },
  {
   "cell_type": "code",
   "execution_count": 8,
   "metadata": {},
   "outputs": [],
   "source": [
    "X = []\n",
    "y = []\n",
    "\n",
    "for image, target in zip(data.Image, data.Symbol):\n",
    "    X.append(image)\n",
    "    y.append(target)\n",
    "\n",
    "X = np.array(X)\n",
    "y = np.array(y)\n",
    "\n",
    "y = utils.to_categorical(y)"
   ]
  },
  {
   "cell_type": "code",
   "execution_count": 9,
   "metadata": {},
   "outputs": [],
   "source": [
    "from sklearn.model_selection import train_test_split"
   ]
  },
  {
   "cell_type": "code",
   "execution_count": 10,
   "metadata": {},
   "outputs": [],
   "source": [
    "random_seed = 228\n",
    "X_train, X_test, y_train, y_test = train_test_split(X, y, shuffle=True, test_size=0.1, random_state=random_seed)"
   ]
  },
  {
   "cell_type": "code",
   "execution_count": 11,
   "metadata": {},
   "outputs": [
    {
     "name": "stdout",
     "output_type": "stream",
     "text": [
      "X_train.shape = (16684, 50, 40, 3)\n",
      "X_test.shape = (1854, 50, 40, 3)\n",
      "y_train.shape = (16684, 23)\n",
      "y_test.shape = (1854, 23)\n"
     ]
    }
   ],
   "source": [
    "print(f'X_train.shape = {X_train.shape}')\n",
    "print(f'X_test.shape = {X_test.shape}')\n",
    "print(f'y_train.shape = {y_train.shape}')\n",
    "print(f'y_test.shape = {y_test.shape}')"
   ]
  },
  {
   "cell_type": "code",
   "execution_count": 13,
   "metadata": {},
   "outputs": [
    {
     "name": "stdout",
     "output_type": "stream",
     "text": [
      "[0. 0. 1. 0. 0. 0. 0. 0. 0. 0. 0. 0. 0. 0. 0. 0. 0. 0. 0. 0. 0. 0. 0.]\n"
     ]
    },
    {
     "data": {
      "image/png": "[encoded data removed]",
      "text/plain": [
       "<Figure size 432x288 with 1 Axes>"
      ]
     },
     "metadata": {
      "needs_background": "light"
     },
     "output_type": "display_data"
    }
   ],
   "source": [
    "rand_index = np.random.randint(X_train.shape[0])\n",
    "plt.imshow(X_train[rand_index])\n",
    "print(y_train[rand_index])"
   ]
  },
  {
   "cell_type": "code",
   "execution_count": 14,
   "metadata": {},
   "outputs": [],
   "source": [
    "datagen = ImageDataGenerator(\n",
    "    rotation_range=10,\n",
    "    zoom_range=0.01,\n",
    "    width_shift_range=0.01,\n",
    "    height_shift_range=0.01\n",
    ")"
   ]
  },
  {
   "cell_type": "code",
   "execution_count": 15,
   "metadata": {},
   "outputs": [
    {
     "name": "stdout",
     "output_type": "stream",
     "text": [
      "Model: \"sequential\"\n",
      "_________________________________________________________________\n",
      "Layer (type)                 Output Shape              Param #   \n",
      "=================================================================\n",
      "conv2d (Conv2D)              (None, 50, 40, 32)        2432      \n",
      "_________________________________________________________________\n",
      "conv2d_1 (Conv2D)            (None, 50, 40, 32)        25632     \n",
      "_________________________________________________________________\n",
      "max_pooling2d (MaxPooling2D) (None, 25, 20, 32)        0         \n",
      "_________________________________________________________________\n",
      "dropout (Dropout)            (None, 25, 20, 32)        0         \n",
      "_________________________________________________________________\n",
      "conv2d_2 (Conv2D)            (None, 25, 20, 64)        18496     \n",
      "_________________________________________________________________\n",
      "conv2d_3 (Conv2D)            (None, 25, 20, 64)        36928     \n",
      "_________________________________________________________________\n",
      "max_pooling2d_1 (MaxPooling2 (None, 12, 10, 64)        0         \n",
      "_________________________________________________________________\n",
      "dropout_1 (Dropout)          (None, 12, 10, 64)        0         \n",
      "_________________________________________________________________\n",
      "flatten (Flatten)            (None, 7680)              0         \n",
      "_________________________________________________________________\n",
      "dense (Dense)                (None, 256)               1966336   \n",
      "_________________________________________________________________\n",
      "dropout_2 (Dropout)          (None, 256)               0         \n",
      "_________________________________________________________________\n",
      "dense_1 (Dense)              (None, 23)                5911      \n",
      "=================================================================\n",
      "Total params: 2,055,735\n",
      "Trainable params: 2,055,735\n",
      "Non-trainable params: 0\n",
      "_________________________________________________________________\n",
      "None\n"
     ]
    }
   ],
   "source": [
    "# model creating\n",
    "num_classes = data.Symbol.unique().shape[0]\n",
    "\n",
    "model = Sequential()\n",
    "\n",
    "model.add(Conv2D(filters=32, kernel_size=(5, 5), padding='Same',\n",
    "                 activation='relu', input_shape=(50, 40, 3)))\n",
    "model.add(Conv2D(filters=32, kernel_size=(5, 5), padding='Same',\n",
    "                 activation='relu'))\n",
    "model.add(MaxPooling2D(pool_size=(2, 2)))\n",
    "model.add(Dropout(0.25))\n",
    "\n",
    "model.add(Conv2D(filters=64, kernel_size=(3, 3), padding='Same',\n",
    "                 activation='relu', input_shape=(28, 28, 1)))\n",
    "model.add(Conv2D(filters=64, kernel_size=(3, 3), padding='Same',\n",
    "                 activation='relu'))\n",
    "model.add(MaxPooling2D(pool_size=(2, 2), strides=(2, 2)))\n",
    "model.add(Dropout(0.25))\n",
    "\n",
    "model.add(Flatten())\n",
    "model.add(Dense(units=256, activation='relu'))\n",
    "model.add(Dropout(0.5))\n",
    "model.add(Dense(units=23, activation='softmax'))\n",
    "\n",
    "model.compile(loss='categorical_crossentropy',\n",
    "              optimizer='adam', metrics=['accuracy'])\n",
    "\n",
    "print(model.summary())"
   ]
  },
  {
   "cell_type": "code",
   "execution_count": 16,
   "metadata": {},
   "outputs": [],
   "source": [
    "checkpoint = ModelCheckpoint('mnist-cnn.hdf5',\n",
    "                             monitor='val_accuracy',\n",
    "                             sasve_best_only=True,\n",
    "                             verbose=1)"
   ]
  },
  {
   "cell_type": "code",
   "execution_count": 17,
   "metadata": {},
   "outputs": [],
   "source": [
    "learning_rate_reduction = ReduceLROnPlateau(monitor='val_accuracy',\n",
    "                                            patience=3,\n",
    "                                            verbose=1,\n",
    "                                            factor=0.5,\n",
    "                                            min_lr=0.00001)"
   ]
  },
  {
   "cell_type": "code",
   "execution_count": 18,
   "metadata": {},
   "outputs": [],
   "source": [
    "batch_size = 96"
   ]
  },
  {
   "cell_type": "code",
   "execution_count": 19,
   "metadata": {},
   "outputs": [
    {
     "data": {
      "text/plain": [
       "(18538, 23)"
      ]
     },
     "execution_count": 19,
     "metadata": {},
     "output_type": "execute_result"
    }
   ],
   "source": [
    "np.unique(y, axis=1).shape"
   ]
  },
  {
   "cell_type": "code",
   "execution_count": 24,
   "metadata": {},
   "outputs": [
    {
     "name": "stdout",
     "output_type": "stream",
     "text": [
      "WARNING:tensorflow:sample_weight modes were coerced from\n",
      "  ...\n",
      "    to  \n",
      "  ['...']\n",
      "Train for 173 steps, validate on 1854 samples\n",
      "Epoch 1/30\n",
      "172/173 [============================>.] - ETA: 0s - loss: 0.0111 - accuracy: 0.9965\n",
      "Epoch 00001: saving model to mnist-cnn.hdf5\n",
      "173/173 [==============================] - 10s 60ms/step - loss: 0.0110 - accuracy: 0.9966 - val_loss: 0.0480 - val_accuracy: 0.9919\n",
      "Epoch 2/30\n",
      "172/173 [============================>.] - ETA: 0s - loss: 0.0120 - accuracy: 0.9969\n",
      "Epoch 00002: saving model to mnist-cnn.hdf5\n",
      "173/173 [==============================] - 10s 59ms/step - loss: 0.0119 - accuracy: 0.9969 - val_loss: 0.0457 - val_accuracy: 0.9924\n",
      "Epoch 3/30\n",
      "172/173 [============================>.] - ETA: 0s - loss: 0.0126 - accuracy: 0.9967\n",
      "Epoch 00003: saving model to mnist-cnn.hdf5\n",
      "173/173 [==============================] - 11s 62ms/step - loss: 0.0125 - accuracy: 0.9967 - val_loss: 0.0463 - val_accuracy: 0.9924\n",
      "Epoch 4/30\n",
      "172/173 [============================>.] - ETA: 0s - loss: 0.0133 - accuracy: 0.9962\n",
      "Epoch 00004: saving model to mnist-cnn.hdf5\n",
      "173/173 [==============================] - 12s 68ms/step - loss: 0.0132 - accuracy: 0.9963 - val_loss: 0.0473 - val_accuracy: 0.9924\n",
      "Epoch 5/30\n",
      "172/173 [============================>.] - ETA: 0s - loss: 0.0128 - accuracy: 0.9973\n",
      "Epoch 00005: saving model to mnist-cnn.hdf5\n",
      "173/173 [==============================] - 13s 75ms/step - loss: 0.0127 - accuracy: 0.9973 - val_loss: 0.0472 - val_accuracy: 0.9930\n",
      "Epoch 6/30\n",
      "172/173 [============================>.] - ETA: 0s - loss: 0.0111 - accuracy: 0.9969 ETA: 0s - loss: 0.0107 - accuracy: 0.99\n",
      "Epoch 00006: saving model to mnist-cnn.hdf5\n",
      "173/173 [==============================] - 13s 78ms/step - loss: 0.0111 - accuracy: 0.9969 - val_loss: 0.0480 - val_accuracy: 0.9919\n",
      "Epoch 7/30\n",
      "172/173 [============================>.] - ETA: 0s - loss: 0.0109 - accuracy: 0.9969\n",
      "Epoch 00007: saving model to mnist-cnn.hdf5\n",
      "173/173 [==============================] - 14s 83ms/step - loss: 0.0109 - accuracy: 0.9969 - val_loss: 0.0494 - val_accuracy: 0.9919\n",
      "Epoch 8/30\n",
      "172/173 [============================>.] - ETA: 0s - loss: 0.0117 - accuracy: 0.9964\n",
      "Epoch 00008: saving model to mnist-cnn.hdf5\n",
      "173/173 [==============================] - 12s 67ms/step - loss: 0.0118 - accuracy: 0.9963 - val_loss: 0.0489 - val_accuracy: 0.9919\n",
      "Epoch 9/30\n",
      "172/173 [============================>.] - ETA: 0s - loss: 0.0110 - accuracy: 0.9968\n",
      "Epoch 00009: saving model to mnist-cnn.hdf5\n",
      "173/173 [==============================] - 11s 62ms/step - loss: 0.0110 - accuracy: 0.9968 - val_loss: 0.0506 - val_accuracy: 0.9919\n",
      "Epoch 10/30\n",
      "172/173 [============================>.] - ETA: 0s - loss: 0.0107 - accuracy: 0.9970\n",
      "Epoch 00010: saving model to mnist-cnn.hdf5\n",
      "173/173 [==============================] - 11s 61ms/step - loss: 0.0109 - accuracy: 0.9969 - val_loss: 0.0500 - val_accuracy: 0.9919\n",
      "Epoch 11/30\n",
      "172/173 [============================>.] - ETA: 0s - loss: 0.0129 - accuracy: 0.9963\n",
      "Epoch 00011: saving model to mnist-cnn.hdf5\n",
      "173/173 [==============================] - 10s 60ms/step - loss: 0.0128 - accuracy: 0.9963 - val_loss: 0.0499 - val_accuracy: 0.9924\n",
      "Epoch 12/30\n",
      "172/173 [============================>.] - ETA: 0s - loss: 0.0134 - accuracy: 0.9963\n",
      "Epoch 00012: saving model to mnist-cnn.hdf5\n",
      "173/173 [==============================] - 11s 66ms/step - loss: 0.0134 - accuracy: 0.9963 - val_loss: 0.0473 - val_accuracy: 0.9919\n",
      "Epoch 13/30\n",
      "172/173 [============================>.] - ETA: 0s - loss: 0.0114 - accuracy: 0.9968 ETA: 0s - loss: 0.0108 - accura\n",
      "Epoch 00013: saving model to mnist-cnn.hdf5\n",
      "173/173 [==============================] - 12s 68ms/step - loss: 0.0114 - accuracy: 0.9969 - val_loss: 0.0481 - val_accuracy: 0.9919\n",
      "Epoch 14/30\n",
      "172/173 [============================>.] - ETA: 0s - loss: 0.0105 - accuracy: 0.9965\n",
      "Epoch 00014: saving model to mnist-cnn.hdf5\n",
      "173/173 [==============================] - 11s 62ms/step - loss: 0.0104 - accuracy: 0.9966 - val_loss: 0.0474 - val_accuracy: 0.9919\n",
      "Epoch 15/30\n",
      "172/173 [============================>.] - ETA: 0s - loss: 0.0091 - accuracy: 0.9972\n",
      "Epoch 00015: saving model to mnist-cnn.hdf5\n",
      "173/173 [==============================] - 11s 62ms/step - loss: 0.0090 - accuracy: 0.9972 - val_loss: 0.0505 - val_accuracy: 0.9919\n",
      "Epoch 16/30\n",
      "172/173 [============================>.] - ETA: 0s - loss: 0.0119 - accuracy: 0.9970\n",
      "Epoch 00016: saving model to mnist-cnn.hdf5\n",
      "173/173 [==============================] - 10s 61ms/step - loss: 0.0119 - accuracy: 0.9970 - val_loss: 0.0491 - val_accuracy: 0.9924\n",
      "Epoch 17/30\n",
      "172/173 [============================>.] - ETA: 0s - loss: 0.0118 - accuracy: 0.9965\n",
      "Epoch 00017: saving model to mnist-cnn.hdf5\n",
      "173/173 [==============================] - 14s 79ms/step - loss: 0.0117 - accuracy: 0.9966 - val_loss: 0.0472 - val_accuracy: 0.9924\n",
      "Epoch 18/30\n",
      "172/173 [============================>.] - ETA: 0s - loss: 0.0110 - accuracy: 0.9967\n",
      "Epoch 00018: saving model to mnist-cnn.hdf5\n",
      "173/173 [==============================] - 11s 64ms/step - loss: 0.0111 - accuracy: 0.9966 - val_loss: 0.0472 - val_accuracy: 0.9919\n",
      "Epoch 19/30\n",
      "172/173 [============================>.] - ETA: 0s - loss: 0.0098 - accuracy: 0.9968\n",
      "Epoch 00019: saving model to mnist-cnn.hdf5\n",
      "173/173 [==============================] - 12s 68ms/step - loss: 0.0098 - accuracy: 0.9968 - val_loss: 0.0480 - val_accuracy: 0.9919\n",
      "Epoch 20/30\n",
      "172/173 [============================>.] - ETA: 0s - loss: 0.0133 - accuracy: 0.9961\n",
      "Epoch 00020: saving model to mnist-cnn.hdf5\n",
      "173/173 [==============================] - 11s 62ms/step - loss: 0.0133 - accuracy: 0.9960 - val_loss: 0.0471 - val_accuracy: 0.9930\n",
      "Epoch 21/30\n",
      "172/173 [============================>.] - ETA: 0s - loss: 0.0079 - accuracy: 0.9976\n",
      "Epoch 00021: saving model to mnist-cnn.hdf5\n",
      "173/173 [==============================] - 11s 62ms/step - loss: 0.0079 - accuracy: 0.9975 - val_loss: 0.0502 - val_accuracy: 0.9919\n",
      "Epoch 22/30\n",
      "172/173 [============================>.] - ETA: 0s - loss: 0.0103 - accuracy: 0.9967\n",
      "Epoch 00022: saving model to mnist-cnn.hdf5\n",
      "173/173 [==============================] - 11s 63ms/step - loss: 0.0103 - accuracy: 0.9967 - val_loss: 0.0497 - val_accuracy: 0.9924\n",
      "Epoch 23/30\n",
      "171/173 [============================>.] - ETA: 0s - loss: 0.0110 - accuracy: 0.9968\n",
      "Epoch 00023: saving model to mnist-cnn.hdf5\n",
      "173/173 [==============================] - 13s 75ms/step - loss: 0.0109 - accuracy: 0.9969 - val_loss: 0.0499 - val_accuracy: 0.9924\n",
      "Epoch 24/30\n",
      "172/173 [============================>.] - ETA: 0s - loss: 0.0095 - accuracy: 0.9966\n",
      "Epoch 00024: saving model to mnist-cnn.hdf5\n",
      "173/173 [==============================] - 11s 64ms/step - loss: 0.0094 - accuracy: 0.9966 - val_loss: 0.0489 - val_accuracy: 0.9930\n",
      "Epoch 25/30\n",
      "172/173 [============================>.] - ETA: 0s - loss: 0.0101 - accuracy: 0.9965\n",
      "Epoch 00025: saving model to mnist-cnn.hdf5\n",
      "173/173 [==============================] - 12s 67ms/step - loss: 0.0105 - accuracy: 0.9964 - val_loss: 0.0478 - val_accuracy: 0.9924\n",
      "Epoch 26/30\n",
      "172/173 [============================>.] - ETA: 0s - loss: 0.0108 - accuracy: 0.9970\n",
      "Epoch 00026: saving model to mnist-cnn.hdf5\n",
      "173/173 [==============================] - 12s 72ms/step - loss: 0.0107 - accuracy: 0.9970 - val_loss: 0.0482 - val_accuracy: 0.9919\n",
      "Epoch 27/30\n",
      "172/173 [============================>.] - ETA: 0s - loss: 0.0121 - accuracy: 0.9958\n",
      "Epoch 00027: saving model to mnist-cnn.hdf5\n",
      "173/173 [==============================] - 13s 72ms/step - loss: 0.0121 - accuracy: 0.9957 - val_loss: 0.0481 - val_accuracy: 0.9924\n",
      "Epoch 28/30\n",
      "172/173 [============================>.] - ETA: 0s - loss: 0.0089 - accuracy: 0.9969\n",
      "Epoch 00028: saving model to mnist-cnn.hdf5\n",
      "173/173 [==============================] - 11s 64ms/step - loss: 0.0089 - accuracy: 0.9969 - val_loss: 0.0502 - val_accuracy: 0.9924\n",
      "Epoch 29/30\n",
      "172/173 [============================>.] - ETA: 0s - loss: 0.0104 - accuracy: 0.9973\n",
      "Epoch 00029: saving model to mnist-cnn.hdf5\n",
      "173/173 [==============================] - 12s 67ms/step - loss: 0.0106 - accuracy: 0.9973 - val_loss: 0.0491 - val_accuracy: 0.9919\n",
      "Epoch 30/30\n",
      "172/173 [============================>.] - ETA: 0s - loss: 0.0105 - accuracy: 0.9972\n",
      "Epoch 00030: saving model to mnist-cnn.hdf5\n",
      "173/173 [==============================] - 11s 62ms/step - loss: 0.0104 - accuracy: 0.9972 - val_loss: 0.0497 - val_accuracy: 0.9930\n",
      "--- 345.5399708747864 seconds ---\n"
     ]
    }
   ],
   "source": [
    "start_time = time.time()\n",
    "history = model.fit(datagen.flow(X_train, y_train, batch_size=batch_size),\n",
    "                    epochs=30,\n",
    "                    validation_data=(X_test, y_test),\n",
    "                    steps_per_epoch=(X_train.shape[0] // batch_size),\n",
    "                    verbose=1,\n",
    "                    callbacks=[checkpoint, learning_rate_reduction]\n",
    "                    )\n",
    "print(\"--- %s seconds ---\" % (time.time() - start_time))"
   ]
  }
 ],
 "metadata": {
  "kernelspec": {
   "display_name": "Python 3",
   "language": "python",
   "name": "python3"
  },
  "language_info": {
   "codemirror_mode": {
    "name": "ipython",
    "version": 3
   },
   "file_extension": ".py",
   "mimetype": "text/x-python",
   "name": "python",
   "nbconvert_exporter": "python",
   "pygments_lexer": "ipython3",
   "version": "3.7.9"
  }
 },
 "nbformat": 4,
 "nbformat_minor": 4
}
